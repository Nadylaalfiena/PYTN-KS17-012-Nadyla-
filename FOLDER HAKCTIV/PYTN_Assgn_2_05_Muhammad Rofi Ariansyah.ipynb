{
 "cells": [
  {
   "cell_type": "code",
   "execution_count": 1,
   "id": "ec0f03b7-1e58-4bf6-a0fd-6d07f6cd6f73",
   "metadata": {
    "tags": []
   },
   "outputs": [],
   "source": [
    "import pandas as pd\n",
    "from collections import Counter\n",
    "import numpy as np\n",
    "import matplotlib.pyplot as plt\n",
    "import seaborn as sns"
   ]
  },
  {
   "cell_type": "code",
   "execution_count": 103,
   "id": "d1364a26-b873-4572-856c-4f39d07ed50b",
   "metadata": {
    "tags": []
   },
   "outputs": [],
   "source": [
    "PATH = 'file:///D:/MSIB/nyc-rolling-sales.csv'\n",
    "df = pd.read_csv(PATH)"
   ]
  },
  {
   "cell_type": "code",
   "execution_count": 104,
   "id": "d212f716-2367-4ef1-a245-f08dc66473bd",
   "metadata": {
    "tags": []
   },
   "outputs": [
    {
     "data": {
      "text/plain": [
       "(84548, 22)"
      ]
     },
     "execution_count": 104,
     "metadata": {},
     "output_type": "execute_result"
    }
   ],
   "source": [
    "df.shape"
   ]
  },
  {
   "cell_type": "code",
   "execution_count": 105,
   "id": "c9ff523f-bfce-49b0-a2f7-c76449b13928",
   "metadata": {
    "tags": []
   },
   "outputs": [
    {
     "data": {
      "text/html": [
       "<div>\n",
       "<style scoped>\n",
       "    .dataframe tbody tr th:only-of-type {\n",
       "        vertical-align: middle;\n",
       "    }\n",
       "\n",
       "    .dataframe tbody tr th {\n",
       "        vertical-align: top;\n",
       "    }\n",
       "\n",
       "    .dataframe thead th {\n",
       "        text-align: right;\n",
       "    }\n",
       "</style>\n",
       "<table border=\"1\" class=\"dataframe\">\n",
       "  <thead>\n",
       "    <tr style=\"text-align: right;\">\n",
       "      <th></th>\n",
       "      <th>Unnamed: 0</th>\n",
       "      <th>BOROUGH</th>\n",
       "      <th>NEIGHBORHOOD</th>\n",
       "      <th>BUILDING CLASS CATEGORY</th>\n",
       "      <th>TAX CLASS AT PRESENT</th>\n",
       "      <th>BLOCK</th>\n",
       "      <th>LOT</th>\n",
       "      <th>EASE-MENT</th>\n",
       "      <th>BUILDING CLASS AT PRESENT</th>\n",
       "      <th>ADDRESS</th>\n",
       "      <th>...</th>\n",
       "      <th>RESIDENTIAL UNITS</th>\n",
       "      <th>COMMERCIAL UNITS</th>\n",
       "      <th>TOTAL UNITS</th>\n",
       "      <th>LAND SQUARE FEET</th>\n",
       "      <th>GROSS SQUARE FEET</th>\n",
       "      <th>YEAR BUILT</th>\n",
       "      <th>TAX CLASS AT TIME OF SALE</th>\n",
       "      <th>BUILDING CLASS AT TIME OF SALE</th>\n",
       "      <th>SALE PRICE</th>\n",
       "      <th>SALE DATE</th>\n",
       "    </tr>\n",
       "  </thead>\n",
       "  <tbody>\n",
       "    <tr>\n",
       "      <th>0</th>\n",
       "      <td>4</td>\n",
       "      <td>1</td>\n",
       "      <td>ALPHABET CITY</td>\n",
       "      <td>07 RENTALS - WALKUP APARTMENTS</td>\n",
       "      <td>2A</td>\n",
       "      <td>392</td>\n",
       "      <td>6</td>\n",
       "      <td></td>\n",
       "      <td>C2</td>\n",
       "      <td>153 AVENUE B</td>\n",
       "      <td>...</td>\n",
       "      <td>5</td>\n",
       "      <td>0</td>\n",
       "      <td>5</td>\n",
       "      <td>1633</td>\n",
       "      <td>6440</td>\n",
       "      <td>1900</td>\n",
       "      <td>2</td>\n",
       "      <td>C2</td>\n",
       "      <td>6625000</td>\n",
       "      <td>2017-07-19 00:00:00</td>\n",
       "    </tr>\n",
       "    <tr>\n",
       "      <th>1</th>\n",
       "      <td>5</td>\n",
       "      <td>1</td>\n",
       "      <td>ALPHABET CITY</td>\n",
       "      <td>07 RENTALS - WALKUP APARTMENTS</td>\n",
       "      <td>2</td>\n",
       "      <td>399</td>\n",
       "      <td>26</td>\n",
       "      <td></td>\n",
       "      <td>C7</td>\n",
       "      <td>234 EAST 4TH   STREET</td>\n",
       "      <td>...</td>\n",
       "      <td>28</td>\n",
       "      <td>3</td>\n",
       "      <td>31</td>\n",
       "      <td>4616</td>\n",
       "      <td>18690</td>\n",
       "      <td>1900</td>\n",
       "      <td>2</td>\n",
       "      <td>C7</td>\n",
       "      <td>-</td>\n",
       "      <td>2016-12-14 00:00:00</td>\n",
       "    </tr>\n",
       "    <tr>\n",
       "      <th>2</th>\n",
       "      <td>6</td>\n",
       "      <td>1</td>\n",
       "      <td>ALPHABET CITY</td>\n",
       "      <td>07 RENTALS - WALKUP APARTMENTS</td>\n",
       "      <td>2</td>\n",
       "      <td>399</td>\n",
       "      <td>39</td>\n",
       "      <td></td>\n",
       "      <td>C7</td>\n",
       "      <td>197 EAST 3RD   STREET</td>\n",
       "      <td>...</td>\n",
       "      <td>16</td>\n",
       "      <td>1</td>\n",
       "      <td>17</td>\n",
       "      <td>2212</td>\n",
       "      <td>7803</td>\n",
       "      <td>1900</td>\n",
       "      <td>2</td>\n",
       "      <td>C7</td>\n",
       "      <td>-</td>\n",
       "      <td>2016-12-09 00:00:00</td>\n",
       "    </tr>\n",
       "    <tr>\n",
       "      <th>3</th>\n",
       "      <td>7</td>\n",
       "      <td>1</td>\n",
       "      <td>ALPHABET CITY</td>\n",
       "      <td>07 RENTALS - WALKUP APARTMENTS</td>\n",
       "      <td>2B</td>\n",
       "      <td>402</td>\n",
       "      <td>21</td>\n",
       "      <td></td>\n",
       "      <td>C4</td>\n",
       "      <td>154 EAST 7TH STREET</td>\n",
       "      <td>...</td>\n",
       "      <td>10</td>\n",
       "      <td>0</td>\n",
       "      <td>10</td>\n",
       "      <td>2272</td>\n",
       "      <td>6794</td>\n",
       "      <td>1913</td>\n",
       "      <td>2</td>\n",
       "      <td>C4</td>\n",
       "      <td>3936272</td>\n",
       "      <td>2016-09-23 00:00:00</td>\n",
       "    </tr>\n",
       "    <tr>\n",
       "      <th>4</th>\n",
       "      <td>8</td>\n",
       "      <td>1</td>\n",
       "      <td>ALPHABET CITY</td>\n",
       "      <td>07 RENTALS - WALKUP APARTMENTS</td>\n",
       "      <td>2A</td>\n",
       "      <td>404</td>\n",
       "      <td>55</td>\n",
       "      <td></td>\n",
       "      <td>C2</td>\n",
       "      <td>301 EAST 10TH   STREET</td>\n",
       "      <td>...</td>\n",
       "      <td>6</td>\n",
       "      <td>0</td>\n",
       "      <td>6</td>\n",
       "      <td>2369</td>\n",
       "      <td>4615</td>\n",
       "      <td>1900</td>\n",
       "      <td>2</td>\n",
       "      <td>C2</td>\n",
       "      <td>8000000</td>\n",
       "      <td>2016-11-17 00:00:00</td>\n",
       "    </tr>\n",
       "  </tbody>\n",
       "</table>\n",
       "<p>5 rows × 22 columns</p>\n",
       "</div>"
      ],
      "text/plain": [
       "   Unnamed: 0  BOROUGH   NEIGHBORHOOD  \\\n",
       "0           4        1  ALPHABET CITY   \n",
       "1           5        1  ALPHABET CITY   \n",
       "2           6        1  ALPHABET CITY   \n",
       "3           7        1  ALPHABET CITY   \n",
       "4           8        1  ALPHABET CITY   \n",
       "\n",
       "                       BUILDING CLASS CATEGORY TAX CLASS AT PRESENT  BLOCK  \\\n",
       "0  07 RENTALS - WALKUP APARTMENTS                                2A    392   \n",
       "1  07 RENTALS - WALKUP APARTMENTS                                 2    399   \n",
       "2  07 RENTALS - WALKUP APARTMENTS                                 2    399   \n",
       "3  07 RENTALS - WALKUP APARTMENTS                                2B    402   \n",
       "4  07 RENTALS - WALKUP APARTMENTS                                2A    404   \n",
       "\n",
       "   LOT EASE-MENT BUILDING CLASS AT PRESENT                 ADDRESS  ...  \\\n",
       "0    6                                  C2            153 AVENUE B  ...   \n",
       "1   26                                  C7   234 EAST 4TH   STREET  ...   \n",
       "2   39                                  C7   197 EAST 3RD   STREET  ...   \n",
       "3   21                                  C4     154 EAST 7TH STREET  ...   \n",
       "4   55                                  C2  301 EAST 10TH   STREET  ...   \n",
       "\n",
       "  RESIDENTIAL UNITS  COMMERCIAL UNITS  TOTAL UNITS  LAND SQUARE FEET  \\\n",
       "0                 5                 0            5              1633   \n",
       "1                28                 3           31              4616   \n",
       "2                16                 1           17              2212   \n",
       "3                10                 0           10              2272   \n",
       "4                 6                 0            6              2369   \n",
       "\n",
       "   GROSS SQUARE FEET YEAR BUILT TAX CLASS AT TIME OF SALE  \\\n",
       "0               6440       1900                         2   \n",
       "1              18690       1900                         2   \n",
       "2               7803       1900                         2   \n",
       "3               6794       1913                         2   \n",
       "4               4615       1900                         2   \n",
       "\n",
       "   BUILDING CLASS AT TIME OF SALE  SALE PRICE            SALE DATE  \n",
       "0                              C2     6625000  2017-07-19 00:00:00  \n",
       "1                              C7         -    2016-12-14 00:00:00  \n",
       "2                              C7         -    2016-12-09 00:00:00  \n",
       "3                              C4     3936272  2016-09-23 00:00:00  \n",
       "4                              C2     8000000  2016-11-17 00:00:00  \n",
       "\n",
       "[5 rows x 22 columns]"
      ]
     },
     "execution_count": 105,
     "metadata": {},
     "output_type": "execute_result"
    }
   ],
   "source": [
    "df.head()"
   ]
  },
  {
   "cell_type": "markdown",
   "id": "f4be8557-0b97-4174-a4d3-7dc07d72ac4e",
   "metadata": {},
   "source": [
    "### Merapihkan data frame"
   ]
  },
  {
   "cell_type": "code",
   "execution_count": 106,
   "id": "ddff9969-f2ac-40af-8bb1-9def186a40c1",
   "metadata": {
    "tags": []
   },
   "outputs": [],
   "source": [
    "from collections import Counter\n",
    "\n",
    "# mengganti nilai col untuk melihat nilai unik yang muncul di kolom tersebut\n",
    "col = 'TAX CLASS AT PRESENT'\n",
    "show = sorted(df[col].dropna().unique())\n",
    "\n",
    "# show"
   ]
  },
  {
   "cell_type": "code",
   "execution_count": 107,
   "id": "de192f6e-33c2-48e6-b44c-6adec19dfaff",
   "metadata": {
    "tags": []
   },
   "outputs": [],
   "source": [
    "# convert to ints\n",
    "\n",
    "df['SALE PRICE'] = [int(price) if price.isdigit() else -1 for price in df['SALE PRICE']]\n",
    "df['LAND SQUARE FEET'] = [int(size) if size.isdigit() else -1 for size in df['LAND SQUARE FEET']]\n",
    "df['GROSS SQUARE FEET'] = [int(size) if size.isdigit() else -1 for size in df['GROSS SQUARE FEET']]"
   ]
  },
  {
   "cell_type": "code",
   "execution_count": 108,
   "id": "fa44bd3c-a8f7-487e-93f2-cad5bbfb100e",
   "metadata": {
    "tags": []
   },
   "outputs": [],
   "source": [
    "# Drop cell\n",
    "df = df.drop(['Unnamed: 0', 'NEIGHBORHOOD', 'ADDRESS', 'BLOCK', 'LOT', 'EASE-MENT', 'APARTMENT NUMBER'], axis=1)"
   ]
  },
  {
   "cell_type": "code",
   "execution_count": 109,
   "id": "72f490f1-e7a9-4ad0-88bb-083e9ca2d323",
   "metadata": {
    "tags": []
   },
   "outputs": [
    {
     "data": {
      "text/plain": [
       "[1, 2, 3, 4, 5, 6, 7, 8, 9, 10, 11, 12]"
      ]
     },
     "execution_count": 109,
     "metadata": {},
     "output_type": "execute_result"
    }
   ],
   "source": [
    "# add kolom\n",
    "months = ['Jan', 'Feb', 'Mar', 'Apr','May', 'Jun', 'Jul', 'Aug', 'Sep', 'Oct', 'Nov', 'Dec']\n",
    "\n",
    "df['YEAR SOLD'] = [int(n[0:4]) for n in df['SALE DATE']]\n",
    "df['MONTH SOLD'] = [int(n[5:7]) for n in df['SALE DATE']]\n",
    "df['MONTH AND YEAR'] = [months[month - 1] + ' ' + str(year - 2000) for month, year in zip(df['MONTH SOLD'], df['YEAR SOLD'])]\n",
    "\n",
    "df['PRICE / SQFT'] = [price / sqft if price > -1 and sqft > 0 else -1 for price, sqft in zip(df['SALE PRICE'] , df['GROSS SQUARE FEET'])]\n",
    "sorted(df['MONTH SOLD'].unique())"
   ]
  },
  {
   "cell_type": "code",
   "execution_count": 110,
   "id": "fe09372b-6041-4c68-ab4e-a646428527c6",
   "metadata": {
    "tags": []
   },
   "outputs": [
    {
     "data": {
      "text/html": [
       "<div>\n",
       "<style scoped>\n",
       "    .dataframe tbody tr th:only-of-type {\n",
       "        vertical-align: middle;\n",
       "    }\n",
       "\n",
       "    .dataframe tbody tr th {\n",
       "        vertical-align: top;\n",
       "    }\n",
       "\n",
       "    .dataframe thead th {\n",
       "        text-align: right;\n",
       "    }\n",
       "</style>\n",
       "<table border=\"1\" class=\"dataframe\">\n",
       "  <thead>\n",
       "    <tr style=\"text-align: right;\">\n",
       "      <th></th>\n",
       "      <th>BOROUGH</th>\n",
       "      <th>BUILDING CLASS CATEGORY</th>\n",
       "      <th>TAX CLASS AT PRESENT</th>\n",
       "      <th>BUILDING CLASS AT PRESENT</th>\n",
       "      <th>ZIP CODE</th>\n",
       "      <th>RESIDENTIAL UNITS</th>\n",
       "      <th>COMMERCIAL UNITS</th>\n",
       "      <th>TOTAL UNITS</th>\n",
       "      <th>LAND SQUARE FEET</th>\n",
       "      <th>GROSS SQUARE FEET</th>\n",
       "      <th>YEAR BUILT</th>\n",
       "      <th>TAX CLASS AT TIME OF SALE</th>\n",
       "      <th>BUILDING CLASS AT TIME OF SALE</th>\n",
       "      <th>SALE PRICE</th>\n",
       "      <th>SALE DATE</th>\n",
       "      <th>YEAR SOLD</th>\n",
       "      <th>MONTH SOLD</th>\n",
       "      <th>MONTH AND YEAR</th>\n",
       "      <th>PRICE / SQFT</th>\n",
       "    </tr>\n",
       "  </thead>\n",
       "  <tbody>\n",
       "    <tr>\n",
       "      <th>0</th>\n",
       "      <td>1</td>\n",
       "      <td>07 RENTALS - WALKUP APARTMENTS</td>\n",
       "      <td>2A</td>\n",
       "      <td>C2</td>\n",
       "      <td>10009</td>\n",
       "      <td>5</td>\n",
       "      <td>0</td>\n",
       "      <td>5</td>\n",
       "      <td>1633</td>\n",
       "      <td>6440</td>\n",
       "      <td>1900</td>\n",
       "      <td>2</td>\n",
       "      <td>C2</td>\n",
       "      <td>6625000</td>\n",
       "      <td>2017-07-19 00:00:00</td>\n",
       "      <td>2017</td>\n",
       "      <td>7</td>\n",
       "      <td>Jul 17</td>\n",
       "      <td>1028.726708</td>\n",
       "    </tr>\n",
       "    <tr>\n",
       "      <th>1</th>\n",
       "      <td>1</td>\n",
       "      <td>07 RENTALS - WALKUP APARTMENTS</td>\n",
       "      <td>2</td>\n",
       "      <td>C7</td>\n",
       "      <td>10009</td>\n",
       "      <td>28</td>\n",
       "      <td>3</td>\n",
       "      <td>31</td>\n",
       "      <td>4616</td>\n",
       "      <td>18690</td>\n",
       "      <td>1900</td>\n",
       "      <td>2</td>\n",
       "      <td>C7</td>\n",
       "      <td>-1</td>\n",
       "      <td>2016-12-14 00:00:00</td>\n",
       "      <td>2016</td>\n",
       "      <td>12</td>\n",
       "      <td>Dec 16</td>\n",
       "      <td>-1.000000</td>\n",
       "    </tr>\n",
       "    <tr>\n",
       "      <th>2</th>\n",
       "      <td>1</td>\n",
       "      <td>07 RENTALS - WALKUP APARTMENTS</td>\n",
       "      <td>2</td>\n",
       "      <td>C7</td>\n",
       "      <td>10009</td>\n",
       "      <td>16</td>\n",
       "      <td>1</td>\n",
       "      <td>17</td>\n",
       "      <td>2212</td>\n",
       "      <td>7803</td>\n",
       "      <td>1900</td>\n",
       "      <td>2</td>\n",
       "      <td>C7</td>\n",
       "      <td>-1</td>\n",
       "      <td>2016-12-09 00:00:00</td>\n",
       "      <td>2016</td>\n",
       "      <td>12</td>\n",
       "      <td>Dec 16</td>\n",
       "      <td>-1.000000</td>\n",
       "    </tr>\n",
       "    <tr>\n",
       "      <th>3</th>\n",
       "      <td>1</td>\n",
       "      <td>07 RENTALS - WALKUP APARTMENTS</td>\n",
       "      <td>2B</td>\n",
       "      <td>C4</td>\n",
       "      <td>10009</td>\n",
       "      <td>10</td>\n",
       "      <td>0</td>\n",
       "      <td>10</td>\n",
       "      <td>2272</td>\n",
       "      <td>6794</td>\n",
       "      <td>1913</td>\n",
       "      <td>2</td>\n",
       "      <td>C4</td>\n",
       "      <td>3936272</td>\n",
       "      <td>2016-09-23 00:00:00</td>\n",
       "      <td>2016</td>\n",
       "      <td>9</td>\n",
       "      <td>Sep 16</td>\n",
       "      <td>579.374742</td>\n",
       "    </tr>\n",
       "    <tr>\n",
       "      <th>4</th>\n",
       "      <td>1</td>\n",
       "      <td>07 RENTALS - WALKUP APARTMENTS</td>\n",
       "      <td>2A</td>\n",
       "      <td>C2</td>\n",
       "      <td>10009</td>\n",
       "      <td>6</td>\n",
       "      <td>0</td>\n",
       "      <td>6</td>\n",
       "      <td>2369</td>\n",
       "      <td>4615</td>\n",
       "      <td>1900</td>\n",
       "      <td>2</td>\n",
       "      <td>C2</td>\n",
       "      <td>8000000</td>\n",
       "      <td>2016-11-17 00:00:00</td>\n",
       "      <td>2016</td>\n",
       "      <td>11</td>\n",
       "      <td>Nov 16</td>\n",
       "      <td>1733.477790</td>\n",
       "    </tr>\n",
       "  </tbody>\n",
       "</table>\n",
       "</div>"
      ],
      "text/plain": [
       "   BOROUGH                      BUILDING CLASS CATEGORY TAX CLASS AT PRESENT  \\\n",
       "0        1  07 RENTALS - WALKUP APARTMENTS                                2A   \n",
       "1        1  07 RENTALS - WALKUP APARTMENTS                                 2   \n",
       "2        1  07 RENTALS - WALKUP APARTMENTS                                 2   \n",
       "3        1  07 RENTALS - WALKUP APARTMENTS                                2B   \n",
       "4        1  07 RENTALS - WALKUP APARTMENTS                                2A   \n",
       "\n",
       "  BUILDING CLASS AT PRESENT  ZIP CODE  RESIDENTIAL UNITS  COMMERCIAL UNITS  \\\n",
       "0                        C2     10009                  5                 0   \n",
       "1                        C7     10009                 28                 3   \n",
       "2                        C7     10009                 16                 1   \n",
       "3                        C4     10009                 10                 0   \n",
       "4                        C2     10009                  6                 0   \n",
       "\n",
       "   TOTAL UNITS  LAND SQUARE FEET  GROSS SQUARE FEET  YEAR BUILT  \\\n",
       "0            5              1633               6440        1900   \n",
       "1           31              4616              18690        1900   \n",
       "2           17              2212               7803        1900   \n",
       "3           10              2272               6794        1913   \n",
       "4            6              2369               4615        1900   \n",
       "\n",
       "   TAX CLASS AT TIME OF SALE BUILDING CLASS AT TIME OF SALE  SALE PRICE  \\\n",
       "0                          2                             C2     6625000   \n",
       "1                          2                             C7          -1   \n",
       "2                          2                             C7          -1   \n",
       "3                          2                             C4     3936272   \n",
       "4                          2                             C2     8000000   \n",
       "\n",
       "             SALE DATE  YEAR SOLD  MONTH SOLD MONTH AND YEAR  PRICE / SQFT  \n",
       "0  2017-07-19 00:00:00       2017           7         Jul 17   1028.726708  \n",
       "1  2016-12-14 00:00:00       2016          12         Dec 16     -1.000000  \n",
       "2  2016-12-09 00:00:00       2016          12         Dec 16     -1.000000  \n",
       "3  2016-09-23 00:00:00       2016           9         Sep 16    579.374742  \n",
       "4  2016-11-17 00:00:00       2016          11         Nov 16   1733.477790  "
      ]
     },
     "execution_count": 110,
     "metadata": {},
     "output_type": "execute_result"
    }
   ],
   "source": [
    "# melihat data setelah perubahan\n",
    "df.head()"
   ]
  },
  {
   "cell_type": "markdown",
   "id": "448c5079-2f1a-4277-887d-52a4f3f7b737",
   "metadata": {},
   "source": [
    "### MEAN\n",
    "\n",
    "Tujuan dari program ini adalah untuk membuat ringkasan jumlah penjualan pada tahun 2016 dan 2017 beserta rata-ratanya dalam bentuk DataFrame yang mudah dibaca dan dapat digunakan untuk analisis atau pelaporan lebih lanjut. Dengan menambahkan rata-rata ke DataFrame, program ini memberikan informasi tambahan tentang kinerja penjualan selama dua tahun tersebut."
   ]
  },
  {
   "cell_type": "code",
   "execution_count": 28,
   "id": "dc5de2e9-d259-40c0-a05c-6b5319cdf584",
   "metadata": {
    "tags": []
   },
   "outputs": [],
   "source": [
    "# Data counts_per_year\n",
    "counts_per_year = [sum(df['YEAR SOLD'] == 2016), sum(df['YEAR SOLD'] == 2017)]"
   ]
  },
  {
   "cell_type": "code",
   "execution_count": 33,
   "id": "95b5f1ea-87ce-4b6b-939c-78590413a43e",
   "metadata": {
    "tags": []
   },
   "outputs": [
    {
     "name": "stdout",
     "output_type": "stream",
     "text": [
      "       Tahun  Jumlah Penjualan\n",
      "0       2016           29493.0\n",
      "1       2017           55055.0\n",
      "2  Rata-rata           42274.0\n"
     ]
    }
   ],
   "source": [
    "# Membuat DataFrame dari data\n",
    "data = {'Tahun': [2016, 2017], 'Jumlah Penjualan': counts_per_year}\n",
    "df_counts = pd.DataFrame(data)\n",
    "\n",
    "# Menghitung rata-rata jumlah penjualan\n",
    "mean_sales = df_counts['Jumlah Penjualan'].mean()\n",
    "\n",
    "# Menambahkan rata-rata ke DataFrame\n",
    "df_counts.loc[len(df_counts)] = ['Rata-rata', mean_sales]\n",
    "\n",
    "print(df_counts)"
   ]
  },
  {
   "cell_type": "markdown",
   "id": "9190d6d4-4ef4-40db-a23f-3ca04b176cd1",
   "metadata": {},
   "source": [
    "### Median\n",
    "\n",
    "Tujuan dari analisis ini adalah untuk mendapatkan nilai median untuk masing-masing kolom unit (RESIDENTIAL UNITS, COMMERCIAL UNITS, dan TOTAL UNITS) berdasarkan kategori BUILDING CLASS CATEGORY. Hasil ini memberikan gambaran yang lebih baik tentang nilai tengah atau karakteristik pusat distribusi unit-unit properti dalam berbagai kategori, yang dapat digunakan untuk analisis lebih lanjut, perbandingan, dan pengambilan keputusan terkait dengan jenis properti yang sesuai dengan kebutuhan atau tujuan bisnis."
   ]
  },
  {
   "cell_type": "code",
   "execution_count": 42,
   "id": "af5714ff-fc32-4017-b7f0-f1ec297a471d",
   "metadata": {
    "tags": []
   },
   "outputs": [
    {
     "name": "stdout",
     "output_type": "stream",
     "text": [
      "                         BUILDING CLASS CATEGORY  Median RESIDENTIAL UNITS  \\\n",
      "0    01 ONE FAMILY DWELLINGS                                           1.0   \n",
      "1    02 TWO FAMILY DWELLINGS                                           2.0   \n",
      "2    03 THREE FAMILY DWELLINGS                                         3.0   \n",
      "3    04 TAX CLASS 1 CONDOS                                             1.0   \n",
      "4    05 TAX CLASS 1 VACANT LAND                                        0.0   \n",
      "5    06 TAX CLASS 1 - OTHER                                            0.0   \n",
      "6    07 RENTALS - WALKUP APARTMENTS                                    6.0   \n",
      "7    08 RENTALS - ELEVATOR APARTMENTS                                 48.0   \n",
      "8    09 COOPS - WALKUP APARTMENTS                                      0.0   \n",
      "9    10 COOPS - ELEVATOR APARTMENTS                                    0.0   \n",
      "10   11 SPECIAL CONDO BILLING LOTS                                     0.0   \n",
      "11  11A CONDO-RENTALS                                                 11.0   \n",
      "12   12 CONDOS - WALKUP APARTMENTS                                     1.0   \n",
      "13   13 CONDOS - ELEVATOR APARTMENTS                                   1.0   \n",
      "14   14 RENTALS - 4-10 UNIT                                            4.0   \n",
      "15   15 CONDOS - 2-10 UNIT RESIDENTIAL                                 1.0   \n",
      "16   16 CONDOS - 2-10 UNIT WITH COMMERCIAL UNIT                        0.0   \n",
      "17   17 CONDO COOPS                                                    0.0   \n",
      "18   18 TAX CLASS 3 - UNTILITY PROPERTIES                              0.0   \n",
      "19   21 OFFICE BUILDINGS                                               0.0   \n",
      "20   22 STORE BUILDINGS                                                0.0   \n",
      "21   23 LOFT BUILDINGS                                                 0.0   \n",
      "22   25 LUXURY HOTELS                                                  0.0   \n",
      "23   26 OTHER HOTELS                                                   0.0   \n",
      "24   27 FACTORIES                                                      0.0   \n",
      "25   28 COMMERCIAL CONDOS                                              0.0   \n",
      "26   29 COMMERCIAL GARAGES                                             0.0   \n",
      "27   30 WAREHOUSES                                                     0.0   \n",
      "28   31 COMMERCIAL VACANT LAND                                         0.0   \n",
      "29   32 HOSPITAL AND HEALTH FACILITIES                                 0.0   \n",
      "30   33 EDUCATIONAL FACILITIES                                         0.0   \n",
      "31   34 THEATRES                                                       0.0   \n",
      "32   35 INDOOR PUBLIC AND CULTURAL FACILITIES                          0.0   \n",
      "33   36 OUTDOOR RECREATIONAL FACILITIES                                0.0   \n",
      "34   37 RELIGIOUS FACILITIES                                           0.0   \n",
      "35   38 ASYLUMS AND HOMES                                              0.0   \n",
      "36   39 TRANSPORTATION FACILITIES                                      0.0   \n",
      "37   40 SELECTED GOVERNMENTAL FACILITIES                               0.0   \n",
      "38   41 TAX CLASS 4 - OTHER                                            0.0   \n",
      "39   42 CONDO CULTURAL/MEDICAL/EDUCATIONAL/ETC                         0.0   \n",
      "40   43 CONDO OFFICE BUILDINGS                                         0.0   \n",
      "41   44 CONDO PARKING                                                  0.0   \n",
      "42   45 CONDO HOTELS                                                   0.0   \n",
      "43   46 CONDO STORE BUILDINGS                                          0.0   \n",
      "44   47 CONDO NON-BUSINESS STORAGE                                     0.0   \n",
      "45   48 CONDO TERRACES/GARDENS/CABANAS                                 0.0   \n",
      "46   49 CONDO WAREHOUSES/FACTORY/INDUS                                 0.0   \n",
      "\n",
      "    Median COMMERCIAL UNITS  Median TOTAL UNITS  \n",
      "0                       0.0                 1.0  \n",
      "1                       0.0                 2.0  \n",
      "2                       0.0                 3.0  \n",
      "3                       0.0                 1.0  \n",
      "4                       0.0                 0.0  \n",
      "5                       0.0                 0.0  \n",
      "6                       0.0                 6.0  \n",
      "7                       0.0                48.0  \n",
      "8                       0.0                 0.0  \n",
      "9                       0.0                 0.0  \n",
      "10                      0.0                 0.0  \n",
      "11                      0.0                12.0  \n",
      "12                      0.0                 1.0  \n",
      "13                      0.0                 1.0  \n",
      "14                      1.0                 5.0  \n",
      "15                      0.0                 1.0  \n",
      "16                      1.0                 1.0  \n",
      "17                      0.0                 0.0  \n",
      "18                      0.0                 0.0  \n",
      "19                      2.0                 2.0  \n",
      "20                      2.0                 2.0  \n",
      "21                      5.5                 6.0  \n",
      "22                      1.0                 1.0  \n",
      "23                      2.0                 2.0  \n",
      "24                      1.0                 1.0  \n",
      "25                      1.0                 1.0  \n",
      "26                      1.0                 1.0  \n",
      "27                      1.0                 1.0  \n",
      "28                      0.0                 0.0  \n",
      "29                      1.0                 1.0  \n",
      "30                      1.0                 1.0  \n",
      "31                      2.0                 2.5  \n",
      "32                      1.0                 1.0  \n",
      "33                      0.0                 0.0  \n",
      "34                      1.0                 1.0  \n",
      "35                      1.0                 2.0  \n",
      "36                      0.0                 0.0  \n",
      "37                      1.0                 1.0  \n",
      "38                      0.0                 0.0  \n",
      "39                      0.0                 1.0  \n",
      "40                      0.0                 1.0  \n",
      "41                      0.0                 1.0  \n",
      "42                      0.0                 1.0  \n",
      "43                      0.0                 1.0  \n",
      "44                      0.0                 1.0  \n",
      "45                      0.0                 1.0  \n",
      "46                      0.0                 1.0  \n"
     ]
    }
   ],
   "source": [
    "# Mengelompokkan data berdasarkan kategori 'BUILDING CLASS CATEGORY' dan menghitung median untuk masing-masing kolom\n",
    "median_by_category = df.groupby('BUILDING CLASS CATEGORY')[['RESIDENTIAL UNITS', 'COMMERCIAL UNITS', 'TOTAL UNITS']].median().reset_index()\n",
    "\n",
    "# Mengganti nama kolom agar lebih deskriptif\n",
    "median_by_category.columns = ['BUILDING CLASS CATEGORY', 'Median RESIDENTIAL UNITS', 'Median COMMERCIAL UNITS', 'Median TOTAL UNITS']\n",
    "\n",
    "# Mencetak tabel median berdasarkan kategori\n",
    "print(median_by_category)\n"
   ]
  },
  {
   "cell_type": "markdown",
   "id": "1da33141-99b9-4882-87ad-17b58c65348a",
   "metadata": {
    "tags": []
   },
   "source": [
    "### Modus\n",
    "\n",
    "Tujuan dari analisis data ini adalah untuk mendapatkan pemahaman yang lebih baik tentang karakteristik unit-unit properti berdasarkan kategori BUILDING CLASS CATEGORY. Dengan melakukan perhitungan mean (rata-rata) dan modus (nilai yang paling sering muncul) untuk kolom RESIDENTIAL UNITS, COMMERCIAL UNITS, dan TOTAL UNITS,"
   ]
  },
  {
   "cell_type": "code",
   "execution_count": 41,
   "id": "640ae12d-2747-47d0-bbae-8343c9468b5e",
   "metadata": {
    "tags": []
   },
   "outputs": [
    {
     "name": "stdout",
     "output_type": "stream",
     "text": [
      "                                              RESIDENTIAL UNITS  \\\n",
      "BUILDING CLASS CATEGORY                                           \n",
      "01 ONE FAMILY DWELLINGS                                1.001097   \n",
      "02 TWO FAMILY DWELLINGS                                1.999747   \n",
      "03 THREE FAMILY DWELLINGS                              2.996578   \n",
      "04 TAX CLASS 1 CONDOS                                  0.983696   \n",
      "05 TAX CLASS 1 VACANT LAND                             0.184295   \n",
      "06 TAX CLASS 1 - OTHER                                 0.148352   \n",
      "07 RENTALS - WALKUP APARTMENTS                        11.303808   \n",
      "08 RENTALS - ELEVATOR APARTMENTS                      80.641361   \n",
      "09 COOPS - WALKUP APARTMENTS                           0.432237   \n",
      "10 COOPS - ELEVATOR APARTMENTS                         0.975508   \n",
      "11 SPECIAL CONDO BILLING LOTS                          0.000000   \n",
      "11A CONDO-RENTALS                                     60.418605   \n",
      "12 CONDOS - WALKUP APARTMENTS                          1.000000   \n",
      "13 CONDOS - ELEVATOR APARTMENTS                        0.960967   \n",
      "14 RENTALS - 4-10 UNIT                                 3.877794   \n",
      "15 CONDOS - 2-10 UNIT RESIDENTIAL                      0.954723   \n",
      "16 CONDOS - 2-10 UNIT WITH COMMERCIAL UNIT             0.000000   \n",
      "17 CONDO COOPS                                         0.155704   \n",
      "18 TAX CLASS 3 - UNTILITY PROPERTIES                   0.000000   \n",
      "21 OFFICE BUILDINGS                                    0.242857   \n",
      "22 STORE BUILDINGS                                     0.485561   \n",
      "23 LOFT BUILDINGS                                      0.434783   \n",
      "25 LUXURY HOTELS                                      44.083333   \n",
      "26 OTHER HOTELS                                        3.833333   \n",
      "27 FACTORIES                                           0.164179   \n",
      "28 COMMERCIAL CONDOS                                   0.000000   \n",
      "29 COMMERCIAL GARAGES                                  0.028961   \n",
      "30 WAREHOUSES                                          0.015337   \n",
      "31 COMMERCIAL VACANT LAND                              0.453564   \n",
      "32 HOSPITAL AND HEALTH FACILITIES                      4.220339   \n",
      "33 EDUCATIONAL FACILITIES                              0.086957   \n",
      "34 THEATRES                                            0.083333   \n",
      "35 INDOOR PUBLIC AND CULTURAL FACILITIES               0.093750   \n",
      "36 OUTDOOR RECREATIONAL FACILITIES                     0.000000   \n",
      "37 RELIGIOUS FACILITIES                                0.210000   \n",
      "38 ASYLUMS AND HOMES                                  17.360000   \n",
      "39 TRANSPORTATION FACILITIES                           0.000000   \n",
      "40 SELECTED GOVERNMENTAL FACILITIES                    0.000000   \n",
      "41 TAX CLASS 4 - OTHER                                 0.069620   \n",
      "42 CONDO CULTURAL/MEDICAL/EDUCATIONAL/ETC              0.000000   \n",
      "43 CONDO OFFICE BUILDINGS                              0.000000   \n",
      "44 CONDO PARKING                                       0.002082   \n",
      "45 CONDO HOTELS                                        0.000000   \n",
      "46 CONDO STORE BUILDINGS                               0.000000   \n",
      "47 CONDO NON-BUSINESS STORAGE                          0.000000   \n",
      "48 CONDO TERRACES/GARDENS/CABANAS                      0.000000   \n",
      "49 CONDO WAREHOUSES/FACTORY/INDUS                      0.000000   \n",
      "\n",
      "                                              COMMERCIAL UNITS  TOTAL UNITS  \\\n",
      "BUILDING CLASS CATEGORY                                                       \n",
      "01 ONE FAMILY DWELLINGS                               0.021826     1.022649   \n",
      "02 TWO FAMILY DWELLINGS                               0.050796     2.050227   \n",
      "03 THREE FAMILY DWELLINGS                             0.000684     2.996578   \n",
      "04 TAX CLASS 1 CONDOS                                 0.000604     0.984300   \n",
      "05 TAX CLASS 1 VACANT LAND                            0.012019     0.196314   \n",
      "06 TAX CLASS 1 - OTHER                                0.016484     0.164835   \n",
      "07 RENTALS - WALKUP APARTMENTS                        0.233987    11.537507   \n",
      "08 RENTALS - ELEVATOR APARTMENTS                      0.979058    81.620419   \n",
      "09 COOPS - WALKUP APARTMENTS                          0.002168     0.434405   \n",
      "10 COOPS - ELEVATOR APARTMENTS                        0.007053     0.982561   \n",
      "11 SPECIAL CONDO BILLING LOTS                         0.000000     0.000000   \n",
      "11A CONDO-RENTALS                                     0.116279    60.581395   \n",
      "12 CONDOS - WALKUP APARTMENTS                         0.000000     1.000000   \n",
      "13 CONDOS - ELEVATOR APARTMENTS                       0.000000     0.961044   \n",
      "14 RENTALS - 4-10 UNIT                                1.469449     5.345753   \n",
      "15 CONDOS - 2-10 UNIT RESIDENTIAL                     0.000000     0.954723   \n",
      "16 CONDOS - 2-10 UNIT WITH COMMERCIAL UNIT            0.979167     0.979167   \n",
      "17 CONDO COOPS                                        0.000000     0.155704   \n",
      "18 TAX CLASS 3 - UNTILITY PROPERTIES                  0.000000     0.000000   \n",
      "21 OFFICE BUILDINGS                                   6.382857     6.585714   \n",
      "22 STORE BUILDINGS                                    2.713369     3.195722   \n",
      "23 LOFT BUILDINGS                                     6.217391     6.652174   \n",
      "25 LUXURY HOTELS                                     63.166667   107.250000   \n",
      "26 OTHER HOTELS                                      22.315789    26.070175   \n",
      "27 FACTORIES                                          1.567164     1.726368   \n",
      "28 COMMERCIAL CONDOS                                  0.700000     1.000000   \n",
      "29 COMMERCIAL GARAGES                                 0.805792     0.834753   \n",
      "30 WAREHOUSES                                         1.414110     1.429448   \n",
      "31 COMMERCIAL VACANT LAND                             1.064795     1.518359   \n",
      "32 HOSPITAL AND HEALTH FACILITIES                     1.288136     5.508475   \n",
      "33 EDUCATIONAL FACILITIES                            33.898551    33.942029   \n",
      "34 THEATRES                                           3.750000     3.833333   \n",
      "35 INDOOR PUBLIC AND CULTURAL FACILITIES              1.062500     1.125000   \n",
      "36 OUTDOOR RECREATIONAL FACILITIES                    0.071429     0.071429   \n",
      "37 RELIGIOUS FACILITIES                               0.900000     1.070000   \n",
      "38 ASYLUMS AND HOMES                                  1.160000    18.480000   \n",
      "39 TRANSPORTATION FACILITIES                          0.000000     0.000000   \n",
      "40 SELECTED GOVERNMENTAL FACILITIES                   1.000000     1.000000   \n",
      "41 TAX CLASS 4 - OTHER                                0.189873     0.259494   \n",
      "42 CONDO CULTURAL/MEDICAL/EDUCATIONAL/ETC             0.000000     0.923077   \n",
      "43 CONDO OFFICE BUILDINGS                             0.002105     0.981053   \n",
      "44 CONDO PARKING                                      0.002776     0.934074   \n",
      "45 CONDO HOTELS                                       0.000000     1.000000   \n",
      "46 CONDO STORE BUILDINGS                              0.006494     0.987013   \n",
      "47 CONDO NON-BUSINESS STORAGE                         0.000000     0.931034   \n",
      "48 CONDO TERRACES/GARDENS/CABANAS                     0.000000     1.000000   \n",
      "49 CONDO WAREHOUSES/FACTORY/INDUS                     0.000000     1.000000   \n",
      "\n",
      "                                              Modus RESIDENTIAL UNITS  \\\n",
      "BUILDING CLASS CATEGORY                                                 \n",
      "01 ONE FAMILY DWELLINGS                                             1   \n",
      "02 TWO FAMILY DWELLINGS                                             2   \n",
      "03 THREE FAMILY DWELLINGS                                           3   \n",
      "04 TAX CLASS 1 CONDOS                                               1   \n",
      "05 TAX CLASS 1 VACANT LAND                                          0   \n",
      "06 TAX CLASS 1 - OTHER                                              0   \n",
      "07 RENTALS - WALKUP APARTMENTS                                      4   \n",
      "08 RENTALS - ELEVATOR APARTMENTS                                   35   \n",
      "09 COOPS - WALKUP APARTMENTS                                        0   \n",
      "10 COOPS - ELEVATOR APARTMENTS                                      0   \n",
      "11 SPECIAL CONDO BILLING LOTS                                       0   \n",
      "11A CONDO-RENTALS                                                   1   \n",
      "12 CONDOS - WALKUP APARTMENTS                                       1   \n",
      "13 CONDOS - ELEVATOR APARTMENTS                                     1   \n",
      "14 RENTALS - 4-10 UNIT                                              3   \n",
      "15 CONDOS - 2-10 UNIT RESIDENTIAL                                   1   \n",
      "16 CONDOS - 2-10 UNIT WITH COMMERCIAL UNIT                          0   \n",
      "17 CONDO COOPS                                                      0   \n",
      "18 TAX CLASS 3 - UNTILITY PROPERTIES                                0   \n",
      "21 OFFICE BUILDINGS                                                 0   \n",
      "22 STORE BUILDINGS                                                  0   \n",
      "23 LOFT BUILDINGS                                                   0   \n",
      "25 LUXURY HOTELS                                                    0   \n",
      "26 OTHER HOTELS                                                     0   \n",
      "27 FACTORIES                                                        0   \n",
      "28 COMMERCIAL CONDOS                                                0   \n",
      "29 COMMERCIAL GARAGES                                               0   \n",
      "30 WAREHOUSES                                                       0   \n",
      "31 COMMERCIAL VACANT LAND                                           0   \n",
      "32 HOSPITAL AND HEALTH FACILITIES                                   0   \n",
      "33 EDUCATIONAL FACILITIES                                           0   \n",
      "34 THEATRES                                                         0   \n",
      "35 INDOOR PUBLIC AND CULTURAL FACILITIES                            0   \n",
      "36 OUTDOOR RECREATIONAL FACILITIES                                  0   \n",
      "37 RELIGIOUS FACILITIES                                             0   \n",
      "38 ASYLUMS AND HOMES                                                0   \n",
      "39 TRANSPORTATION FACILITIES                                        0   \n",
      "40 SELECTED GOVERNMENTAL FACILITIES                                 0   \n",
      "41 TAX CLASS 4 - OTHER                                              0   \n",
      "42 CONDO CULTURAL/MEDICAL/EDUCATIONAL/ETC                           0   \n",
      "43 CONDO OFFICE BUILDINGS                                           0   \n",
      "44 CONDO PARKING                                                    0   \n",
      "45 CONDO HOTELS                                                     0   \n",
      "46 CONDO STORE BUILDINGS                                            0   \n",
      "47 CONDO NON-BUSINESS STORAGE                                       0   \n",
      "48 CONDO TERRACES/GARDENS/CABANAS                                   0   \n",
      "49 CONDO WAREHOUSES/FACTORY/INDUS                                   0   \n",
      "\n",
      "                                              Modus COMMERCIAL UNITS  \\\n",
      "BUILDING CLASS CATEGORY                                                \n",
      "01 ONE FAMILY DWELLINGS                                            0   \n",
      "02 TWO FAMILY DWELLINGS                                            0   \n",
      "03 THREE FAMILY DWELLINGS                                          0   \n",
      "04 TAX CLASS 1 CONDOS                                              0   \n",
      "05 TAX CLASS 1 VACANT LAND                                         0   \n",
      "06 TAX CLASS 1 - OTHER                                             0   \n",
      "07 RENTALS - WALKUP APARTMENTS                                     0   \n",
      "08 RENTALS - ELEVATOR APARTMENTS                                   0   \n",
      "09 COOPS - WALKUP APARTMENTS                                       0   \n",
      "10 COOPS - ELEVATOR APARTMENTS                                     0   \n",
      "11 SPECIAL CONDO BILLING LOTS                                      0   \n",
      "11A CONDO-RENTALS                                                  0   \n",
      "12 CONDOS - WALKUP APARTMENTS                                      0   \n",
      "13 CONDOS - ELEVATOR APARTMENTS                                    0   \n",
      "14 RENTALS - 4-10 UNIT                                             1   \n",
      "15 CONDOS - 2-10 UNIT RESIDENTIAL                                  0   \n",
      "16 CONDOS - 2-10 UNIT WITH COMMERCIAL UNIT                         1   \n",
      "17 CONDO COOPS                                                     0   \n",
      "18 TAX CLASS 3 - UNTILITY PROPERTIES                               0   \n",
      "21 OFFICE BUILDINGS                                                1   \n",
      "22 STORE BUILDINGS                                                 1   \n",
      "23 LOFT BUILDINGS                                                  1   \n",
      "25 LUXURY HOTELS                                                   1   \n",
      "26 OTHER HOTELS                                                    2   \n",
      "27 FACTORIES                                                       1   \n",
      "28 COMMERCIAL CONDOS                                               1   \n",
      "29 COMMERCIAL GARAGES                                              0   \n",
      "30 WAREHOUSES                                                      1   \n",
      "31 COMMERCIAL VACANT LAND                                          0   \n",
      "32 HOSPITAL AND HEALTH FACILITIES                                  1   \n",
      "33 EDUCATIONAL FACILITIES                                          1   \n",
      "34 THEATRES                                                        1   \n",
      "35 INDOOR PUBLIC AND CULTURAL FACILITIES                           1   \n",
      "36 OUTDOOR RECREATIONAL FACILITIES                                 0   \n",
      "37 RELIGIOUS FACILITIES                                            1   \n",
      "38 ASYLUMS AND HOMES                                               1   \n",
      "39 TRANSPORTATION FACILITIES                                       0   \n",
      "40 SELECTED GOVERNMENTAL FACILITIES                                1   \n",
      "41 TAX CLASS 4 - OTHER                                             0   \n",
      "42 CONDO CULTURAL/MEDICAL/EDUCATIONAL/ETC                          0   \n",
      "43 CONDO OFFICE BUILDINGS                                          0   \n",
      "44 CONDO PARKING                                                   0   \n",
      "45 CONDO HOTELS                                                    0   \n",
      "46 CONDO STORE BUILDINGS                                           0   \n",
      "47 CONDO NON-BUSINESS STORAGE                                      0   \n",
      "48 CONDO TERRACES/GARDENS/CABANAS                                  0   \n",
      "49 CONDO WAREHOUSES/FACTORY/INDUS                                  0   \n",
      "\n",
      "                                              Modus TOTAL UNITS  \n",
      "BUILDING CLASS CATEGORY                                          \n",
      "01 ONE FAMILY DWELLINGS                                       1  \n",
      "02 TWO FAMILY DWELLINGS                                       2  \n",
      "03 THREE FAMILY DWELLINGS                                     3  \n",
      "04 TAX CLASS 1 CONDOS                                         1  \n",
      "05 TAX CLASS 1 VACANT LAND                                    0  \n",
      "06 TAX CLASS 1 - OTHER                                        0  \n",
      "07 RENTALS - WALKUP APARTMENTS                                4  \n",
      "08 RENTALS - ELEVATOR APARTMENTS                             36  \n",
      "09 COOPS - WALKUP APARTMENTS                                  0  \n",
      "10 COOPS - ELEVATOR APARTMENTS                                0  \n",
      "11 SPECIAL CONDO BILLING LOTS                                 0  \n",
      "11A CONDO-RENTALS                                             1  \n",
      "12 CONDOS - WALKUP APARTMENTS                                 1  \n",
      "13 CONDOS - ELEVATOR APARTMENTS                               1  \n",
      "14 RENTALS - 4-10 UNIT                                        4  \n",
      "15 CONDOS - 2-10 UNIT RESIDENTIAL                             1  \n",
      "16 CONDOS - 2-10 UNIT WITH COMMERCIAL UNIT                    1  \n",
      "17 CONDO COOPS                                                0  \n",
      "18 TAX CLASS 3 - UNTILITY PROPERTIES                          0  \n",
      "21 OFFICE BUILDINGS                                           1  \n",
      "22 STORE BUILDINGS                                            1  \n",
      "23 LOFT BUILDINGS                                             6  \n",
      "25 LUXURY HOTELS                                              1  \n",
      "26 OTHER HOTELS                                               2  \n",
      "27 FACTORIES                                                  1  \n",
      "28 COMMERCIAL CONDOS                                          1  \n",
      "29 COMMERCIAL GARAGES                                         0  \n",
      "30 WAREHOUSES                                                 1  \n",
      "31 COMMERCIAL VACANT LAND                                     0  \n",
      "32 HOSPITAL AND HEALTH FACILITIES                             1  \n",
      "33 EDUCATIONAL FACILITIES                                     1  \n",
      "34 THEATRES                                                   1  \n",
      "35 INDOOR PUBLIC AND CULTURAL FACILITIES                      1  \n",
      "36 OUTDOOR RECREATIONAL FACILITIES                            0  \n",
      "37 RELIGIOUS FACILITIES                                       1  \n",
      "38 ASYLUMS AND HOMES                                          1  \n",
      "39 TRANSPORTATION FACILITIES                                  0  \n",
      "40 SELECTED GOVERNMENTAL FACILITIES                           1  \n",
      "41 TAX CLASS 4 - OTHER                                        0  \n",
      "42 CONDO CULTURAL/MEDICAL/EDUCATIONAL/ETC                     1  \n",
      "43 CONDO OFFICE BUILDINGS                                     1  \n",
      "44 CONDO PARKING                                              1  \n",
      "45 CONDO HOTELS                                               1  \n",
      "46 CONDO STORE BUILDINGS                                      1  \n",
      "47 CONDO NON-BUSINESS STORAGE                                 1  \n",
      "48 CONDO TERRACES/GARDENS/CABANAS                             1  \n",
      "49 CONDO WAREHOUSES/FACTORY/INDUS                             1  \n"
     ]
    }
   ],
   "source": [
    "# Menghitung mean unit yang telah dihitung\n",
    "unit_sold_by_category = df.groupby('BUILDING CLASS CATEGORY')[['RESIDENTIAL UNITS', 'COMMERCIAL UNITS', 'TOTAL UNITS']].mean()\n",
    "\n",
    "# Menghitung modus untuk setiap kolom dalam setiap kategori\n",
    "modus_by_category = df.groupby('BUILDING CLASS CATEGORY')[['RESIDENTIAL UNITS', 'COMMERCIAL UNITS', 'TOTAL UNITS']].agg(lambda x: x.mode().iloc[0])\n",
    "\n",
    "# Memberi nama kolom pada DataFrame hasil\n",
    "modus_by_category.columns = ['Modus RESIDENTIAL UNITS', 'Modus COMMERCIAL UNITS', 'Modus TOTAL UNITS']\n",
    "\n",
    "# Menggabungkan mean dan modus menjadi satu DataFrame\n",
    "result = pd.concat([unit_sold_by_category, modus_by_category], axis=1)\n",
    "\n",
    "# Menyimpan hasil ke file CSV jika diperlukan\n",
    "# result.to_csv('hasil_modus.csv', index=False)\n",
    "\n",
    "# Menampilkan hasil\n",
    "print(result)\n"
   ]
  },
  {
   "cell_type": "markdown",
   "id": "968e4eec-d3b2-491c-a675-ceee505488c9",
   "metadata": {},
   "source": [
    "### Range\n",
    "\n",
    "Analisis ini bertujuan untuk mengetahui penjual tertinggi dan terendah"
   ]
  },
  {
   "cell_type": "code",
   "execution_count": 46,
   "id": "d67ff205-c0f4-49bf-b7f2-f6b7f471fa0f",
   "metadata": {
    "tags": []
   },
   "outputs": [
    {
     "name": "stdout",
     "output_type": "stream",
     "text": [
      "                     Deskripsi       Nilai\n",
      "0   Tanggal Penjualan Terendah  2016-09-01\n",
      "1  Tanggal Penjualan Tertinggi  2017-08-31\n"
     ]
    }
   ],
   "source": [
    "# Mencari tanggal minimum dan maksimum dari kolom 'SALE DATE'\n",
    "tanggal_min = df['SALE DATE'].min().strftime('%Y-%m-%d')\n",
    "tanggal_max = df['SALE DATE'].max().strftime('%Y-%m-%d')\n",
    "\n",
    "# Membuat DataFrame untuk output\n",
    "output_data = {'Deskripsi': ['Tanggal Penjualan Terendah', 'Tanggal Penjualan Tertinggi'],\n",
    "               'Nilai': [tanggal_min, tanggal_max]}\n",
    "df_output = pd.DataFrame(output_data)\n",
    "\n",
    "print(df_output)"
   ]
  },
  {
   "cell_type": "markdown",
   "id": "9b2958c4-2233-4be7-bcbb-d1af4ed012ca",
   "metadata": {},
   "source": [
    "### Variance\n",
    "\n",
    "Studi kasus pada program ini adalah analisis statistik sederhana terhadap data penjualan properti di New York City (NYC) yang dikumpulkan dalam bentuk DataFrame. Dalam studi kasus ini, kita ingin menghitung varians (variance) dari beberapa atribut penjualan properti yang berbeda, seperti harga penjualan (SALE PRICE), luas tanah (LAND SQUARE FEET), dan luas bangunan (GROSS SQUARE FEET), berdasarkan kategori borough (wilayah) tempat properti tersebut terletak."
   ]
  },
  {
   "cell_type": "code",
   "execution_count": 54,
   "id": "e9d28579-4341-4792-85c0-fbc1d81c6ba9",
   "metadata": {
    "tags": []
   },
   "outputs": [
    {
     "name": "stdout",
     "output_type": "stream",
     "text": [
      "             Deskripsi         Nilai\n",
      "0  Variance SALE PRICE  1.675000e+10\n"
     ]
    }
   ],
   "source": [
    "# Menghitung variance dari kolom 'SALE PRICE'\n",
    "variance_sale_price = df['SALE PRICE'].var()\n",
    "\n",
    "# Membuat DataFrame untuk output\n",
    "output_data = {'Deskripsi': ['Variance SALE PRICE'], 'Nilai': [variance_sale_price]}\n",
    "df_output = pd.DataFrame(output_data)\n",
    "\n",
    "print(df_output)"
   ]
  },
  {
   "cell_type": "code",
   "execution_count": 50,
   "id": "8847fefe-f92c-4e60-8cd7-c334c6c43f95",
   "metadata": {
    "tags": []
   },
   "outputs": [
    {
     "name": "stdout",
     "output_type": "stream",
     "text": [
      "   BOROUGH  Variance SALE PRICE  Variance LAND SQUARE FEET  \\\n",
      "0        1         4.598839e+14               2.938062e+07   \n",
      "1        2         7.745411e+12               3.420048e+08   \n",
      "2        3         1.549063e+13               1.980388e+08   \n",
      "3        4         7.330386e+12               1.393263e+09   \n",
      "4        5         2.645131e+12               6.871647e+09   \n",
      "\n",
      "   Variance GROSS SQUARE FEET  \n",
      "0                1.424622e+09  \n",
      "1                8.726635e+08  \n",
      "2                2.348546e+08  \n",
      "3                1.157928e+09  \n",
      "4                1.542479e+08  \n"
     ]
    }
   ],
   "source": [
    "# Mengelompokkan data berdasarkan kategori 'BOROUGH' dan menghitung variance untuk masing-masing kolom\n",
    "variance_by_borough = df.groupby('BOROUGH')[['SALE PRICE', 'LAND SQUARE FEET', 'GROSS SQUARE FEET']].var().reset_index()\n",
    "\n",
    "# Mengganti nama kolom agar lebih deskriptif\n",
    "variance_by_borough.columns = ['BOROUGH', 'Variance SALE PRICE', 'Variance LAND SQUARE FEET', 'Variance GROSS SQUARE FEET']\n",
    "\n",
    "# Mencetak tabel variance berdasarkan 'BOROUGH'\n",
    "print(variance_by_borough)"
   ]
  },
  {
   "cell_type": "markdown",
   "id": "2f964976-710f-451e-a7ea-62ace8a7cae3",
   "metadata": {},
   "source": [
    "Studi kasus ini berguna untuk memahami sejauh mana variasi dalam atribut penjualan properti (harga, luas tanah, dan luas bangunan) berbeda antarwilayah di NYC. Varians adalah salah satu metrik yang membantu kita dalam analisis statistik untuk mengukur sebaran atau variasi data dalam suatu populasi atau sampel. Studi kasus ini dapat memberikan wawasan kepada pemilik properti, pengembang, atau analis real estate mengenai perbedaan dalam pasar properti antarwilayah di NYC."
   ]
  },
  {
   "cell_type": "markdown",
   "id": "c12bb763-94c2-4c3d-a290-58f3ca34c8d0",
   "metadata": {},
   "source": [
    "###  Standard Deviation"
   ]
  },
  {
   "cell_type": "code",
   "execution_count": 55,
   "id": "f46d7634-d3ec-4cf0-b622-d202dc8e933e",
   "metadata": {
    "tags": []
   },
   "outputs": [
    {
     "name": "stdout",
     "output_type": "stream",
     "text": [
      "   BOROUGH  Standard Deviation SALE PRICE\n",
      "0        1                            NaN\n",
      "1        2                            NaN\n",
      "2        3                            NaN\n",
      "3        4                            NaN\n",
      "4        5                            NaN\n"
     ]
    }
   ],
   "source": [
    "# Mengelompokkan data berdasarkan kolom 'BOROUGH'\n",
    "grouped_by_borough = df.groupby('BOROUGH')['SALE PRICE']\n",
    "\n",
    "# Menghitung Standard Deviation dari harga penjualan untuk setiap wilayah (BOROUGH)\n",
    "standard_deviation_by_borough = grouped_by_borough.std().reset_index()\n",
    "\n",
    "# Mengganti nama kolom agar lebih deskriptif\n",
    "standard_deviation_by_borough.columns = ['BOROUGH', 'Standard Deviation SALE PRICE']\n",
    "\n",
    "# Mencetak tabel Standard Deviation berdasarkan wilayah (BOROUGH)\n",
    "print(standard_deviation_by_borough)"
   ]
  },
  {
   "cell_type": "code",
   "execution_count": 56,
   "id": "01f3a03a-564c-4029-b6ac-9bb0049e95d9",
   "metadata": {
    "tags": []
   },
   "outputs": [
    {
     "name": "stdout",
     "output_type": "stream",
     "text": [
      "Standard Deviation Luas Bangunan di Manhattan: nan\n"
     ]
    }
   ],
   "source": [
    "# Pilih wilayah Manhattan (BOROUGH 1) sebagai fokus studi kasus\n",
    "manhattan_data = df[df['BOROUGH'] == 1]\n",
    "\n",
    "# Menghitung Standard Deviation dari luas bangunan (GROSS SQUARE FEET) di Manhattan\n",
    "standard_deviation_manhattan = manhattan_data['GROSS SQUARE FEET'].std()\n",
    "\n",
    "# Mencetak hasil Standard Deviation\n",
    "print(\"Standard Deviation Luas Bangunan di Manhattan:\", standard_deviation_manhattan)"
   ]
  },
  {
   "cell_type": "markdown",
   "id": "2163f842-7b67-498f-bb13-bf744b950cd5",
   "metadata": {},
   "source": [
    "tujuan utama dari analisis data ini adalah untuk memberikan pemahaman yang lebih baik tentang sebaran luas bangunan di wilayah Manhattan dalam konteks penjualan properti di New York City. Analisis ini dapat membantu stakeholders dalam mengambil keputusan yang lebih baik terkait properti di wilayah tersebut."
   ]
  },
  {
   "cell_type": "markdown",
   "id": "af4af6e1-4539-43cb-a177-7e8bd017d1ee",
   "metadata": {},
   "source": [
    "###  Probability Distribution \n",
    "\n",
    "Tujuan analisis ini adalah untuk memprediksi probabilitas penjualan properti di wilayah Manhattan, New York City, pada bulan tertentu (Desember 2016) dengan menggunakan distribusi probabilitas binomial. Tujuan utama dari analisis ini adalah untuk memprediksi probabilitas penjualan properti di wilayah Manhattan selama bulan Desember 2016. Dalam hal ini, probabilitas penjualan adalah seberapa besar kemungkinan penjualan properti akan terjadi dalam bulan yang ditentukan."
   ]
  },
  {
   "cell_type": "code",
   "execution_count": 79,
   "id": "db8fa6ac-6f84-4ebb-8a67-30b5ab70e19e",
   "metadata": {
    "tags": []
   },
   "outputs": [
    {
     "name": "stdout",
     "output_type": "stream",
     "text": [
      "       BOROUGH            SALE DATE\n",
      "0            1  2017-07-19 00:00:00\n",
      "1            1  2016-12-14 00:00:00\n",
      "2            1  2016-12-09 00:00:00\n",
      "3            1  2016-09-23 00:00:00\n",
      "4            1  2016-11-17 00:00:00\n",
      "...        ...                  ...\n",
      "84543        5  2016-11-28 00:00:00\n",
      "84544        5  2017-04-21 00:00:00\n",
      "84545        5  2017-07-05 00:00:00\n",
      "84546        5  2016-12-21 00:00:00\n",
      "84547        5  2016-10-27 00:00:00\n",
      "\n",
      "[84548 rows x 2 columns]\n"
     ]
    }
   ],
   "source": [
    "# Pilih kolom 'BOROUGH' dan 'SALE DATE' dari DataFrame\n",
    "selected_columns = df[['BOROUGH', 'SALE DATE']]\n",
    "\n",
    "# Tampilkan tabel yang berisi kolom 'BOROUGH' dan 'SALE DATE'\n",
    "print(selected_columns)"
   ]
  },
  {
   "cell_type": "code",
   "execution_count": 83,
   "id": "4addc662-bdd4-4095-a9df-c2831b4a3e5f",
   "metadata": {
    "tags": []
   },
   "outputs": [
    {
     "name": "stdout",
     "output_type": "stream",
     "text": [
      "Probabilitas penjualan properti di Manhattan pada bulan Desember 2016: 5.67%\n"
     ]
    }
   ],
   "source": [
    "# Konversi kolom 'SALE DATE' ke tipe data datetime\n",
    "df['SALE DATE'] = pd.to_datetime(df['SALE DATE'])\n",
    "\n",
    "# Filter data untuk wilayah tertentu (misalnya, Manhattan - BOROUGH 1)\n",
    "manhattan_data = df[df['BOROUGH'] == 1]\n",
    "\n",
    "# Tentukan tanggal awal dan akhir untuk analisis (misalnya, Januari 2023)\n",
    "tanggal_awal = pd.to_datetime('2016-12-01')\n",
    "tanggal_akhir = pd.to_datetime('2016-12-30')\n",
    "\n",
    "# Filter data berdasarkan tanggal\n",
    "penjualan_desember = manhattan_data[(manhattan_data['SALE DATE'] >= tanggal_awal) & (manhattan_data['SALE DATE'] <= tanggal_akhir)]\n",
    "\n",
    "# Menghitung jumlah penjualan properti dalam bulan tertentu (n)\n",
    "n = len(penjualan_desember)\n",
    "\n",
    "# Probabilitas penjualan satu properti dalam satu percobaan (p)\n",
    "# Anda juga dapat mengganti nilai ini berdasarkan data historis\n",
    "p = 0.05  # Misalnya, probabilitas penjualan adalah 5%\n",
    "\n",
    "# Menghitung probabilitas penjualan properti di bulan tertentu\n",
    "probabilitas_penjualan = np.random.binomial(n, p) / n\n",
    "\n",
    "# Mencetak hasil probabilitas penjualan\n",
    "print(f'Probabilitas penjualan properti di Manhattan pada bulan Desember 2016: {probabilitas_penjualan:.2%}')"
   ]
  },
  {
   "cell_type": "markdown",
   "id": "f48bb8f8-f6e1-495f-add7-6ee5bcc8f152",
   "metadata": {},
   "source": [
    "###  Confidence Intervals\n",
    "\n",
    "Tujuan analisis ini adalah untuk memberikan perkiraan rentang harga penjualan properti di wilayah Manhattan (BOROUGH 1) dalam dataset NYC Property Sales dengan menggunakan Confidence Intervals (Interval Kepercayaan) pada tingkat kepercayaan 95%. Tujuan utama dari analisis ini adalah untuk mengestimasi rentang harga penjualan properti di wilayah Manhattan yang memiliki tingkat kepercayaan 95%. Rentang ini memberikan batasan atas dan batasan bawah dari harga penjualan yang mungkin berlaku di wilayah tersebut.Tingkat kepercayaan sebesar 95% yang digunakan dalam analisis ini berarti kita memiliki 95% kepercayaan bahwa rata-rata harga penjualan properti di Manhattan berada dalam rentang Confidence Intervals yang dihasilkan. Ini memberikan ukuran keyakinan terhadap estimasi harga."
   ]
  },
  {
   "cell_type": "code",
   "execution_count": 84,
   "id": "e2580806-461a-4d14-b5bf-abfcb6a082e6",
   "metadata": {
    "tags": []
   },
   "outputs": [
    {
     "name": "stdout",
     "output_type": "stream",
     "text": [
      "Confidence Intervals untuk rata-rata harga penjualan di Manhattan (95% kepercayaan):\n",
      "Rentang: $2,322,181.88 - $2,943,487.79\n"
     ]
    }
   ],
   "source": [
    "from scipy import stats\n",
    "\n",
    "# Filter data untuk wilayah Manhattan (BOROUGH 1)\n",
    "manhattan_data = df[df['BOROUGH'] == 1]\n",
    "\n",
    "# Mengambil kolom 'SALE PRICE' sebagai data harga penjualan di Manhattan\n",
    "sale_price_manhattan = manhattan_data['SALE PRICE']\n",
    "\n",
    "# Menghitung statistik dasar, seperti rata-rata dan standar deviasi\n",
    "mean_price = sale_price_manhattan.mean()\n",
    "std_deviation = sale_price_manhattan.std()\n",
    "\n",
    "# Ukuran sampel (jumlah penjualan di Manhattan)\n",
    "sample_size = len(sale_price_manhattan)\n",
    "\n",
    "# Menghitung Confidence Intervals dengan tingkat kepercayaan 95%\n",
    "confidence_level = 0.95\n",
    "margin_of_error = stats.norm.ppf((1 + confidence_level) / 2) * (std_deviation / np.sqrt(sample_size))\n",
    "confidence_interval = (mean_price - margin_of_error, mean_price + margin_of_error)\n",
    "\n",
    "# Mencetak hasil Confidence Intervals\n",
    "print(f\"Confidence Intervals untuk rata-rata harga penjualan di Manhattan (95% kepercayaan):\")\n",
    "print(f\"Rentang: ${confidence_interval[0]:,.2f} - ${confidence_interval[1]:,.2f}\")"
   ]
  },
  {
   "cell_type": "markdown",
   "id": "655406ce-87d2-43fe-8f58-7a7c5ba84ffe",
   "metadata": {},
   "source": [
    "### Hypothesis Testing\n",
    "\n",
    "Tujuan dari analisis data ini adalah untuk menentukan apakah terdapat perbedaan yang signifikan antara rata-rata harga penjualan properti di wilayah Manhattan (BOROUGH 1) dan Brooklyn (BOROUGH 3) dalam dataset NYC Property Sales. \n"
   ]
  },
  {
   "cell_type": "code",
   "execution_count": 85,
   "id": "3d20438f-db9b-4583-82b2-de994d36afac",
   "metadata": {
    "tags": []
   },
   "outputs": [
    {
     "name": "stdout",
     "output_type": "stream",
     "text": [
      "Nilai t-statistic: 11.203353864767172\n",
      "Nilai p-value: 4.8286713687219043e-29\n",
      "Hipotesis nol (H0) ditolak: Terdapat perbedaan yang signifikan antara rata-rata harga penjualan di Manhattan dan Brooklyn.\n"
     ]
    }
   ],
   "source": [
    "import scipy.stats as stats\n",
    "\n",
    "# Filter data untuk wilayah Manhattan (BOROUGH 1) dan Brooklyn (BOROUGH 3)\n",
    "manhattan_data = df[df['BOROUGH'] == 1]['SALE PRICE']\n",
    "brooklyn_data = df[df['BOROUGH'] == 3]['SALE PRICE']\n",
    "\n",
    "# Melakukan uji t independen untuk membandingkan dua sampel\n",
    "# Ini menguji hipotesis bahwa rata-rata harga penjualan di Manhattan dan Brooklyn berbeda.\n",
    "t_stat, p_value = stats.ttest_ind(manhattan_data, brooklyn_data, equal_var=False)\n",
    "\n",
    "# Tingkat signifikansi (alpha)\n",
    "alpha = 0.05\n",
    "\n",
    "# Mencetak hasil uji t\n",
    "print(f\"Nilai t-statistic: {t_stat}\")\n",
    "print(f\"Nilai p-value: {p_value}\")\n",
    "\n",
    "# Melakukan pengujian hipotesis dengan tingkat signifikansi alpha\n",
    "if p_value < alpha:\n",
    "    print(\"Hipotesis nol (H0) ditolak: Terdapat perbedaan yang signifikan antara rata-rata harga penjualan di Manhattan dan Brooklyn.\")\n",
    "else:\n",
    "    print(\"Hipotesis nol (H0) tidak dapat ditolak: Tidak ada perbedaan yang signifikan antara rata-rata harga penjualan di Manhattan dan Brooklyn.\")"
   ]
  },
  {
   "cell_type": "markdown",
   "id": "dc1e07cf-808d-4486-b1d0-630bd036366a",
   "metadata": {},
   "source": [
    "Kesimpulan dari analisis Hypothesis Testing pada data penjualan properti di wilayah Manhattan (BOROUGH 1) dan Brooklyn (BOROUGH 3) dalam dataset NYC Property Sales adalah sebagai berikut:\n",
    "\n",
    "Berdasarkan hasil uji t independen dengan tingkat signifikansi (alpha) sebesar 0.05, kami menyimpulkan:\n",
    "\n",
    "- Nilai t-statistic adalah [nilai t-statistic yang dihasilkan].\n",
    "- Nilai p-value adalah [nilai p-value yang dihasilkan].\n",
    "\n",
    "Dengan demikian, kita membuat kesimpulan sebagai berikut:\n",
    "\n",
    "**Jika p-value < alpha (0.05)**:\n",
    "- **Kesimpulan**: Hipotesis nol (H0) ditolak.\n",
    "- **Interpretasi**: Ada perbedaan yang signifikan antara rata-rata harga penjualan properti di wilayah Manhattan (BOROUGH 1) dan Brooklyn (BOROUGH 3).\n",
    "\n",
    "**Jika p-value >= alpha (0.05)**:\n",
    "- **Kesimpulan**: Hipotesis nol (H0) tidak dapat ditolak.\n",
    "- **Interpretasi**: Tidak ada perbedaan yang signifikan antara rata-rata harga penjualan properti di wilayah Manhattan dan Brooklyn.\n",
    "\n",
    "Kesimpulan ini didasarkan pada tingkat signifikansi yang telah ditentukan. Dalam contoh ini, dengan tingkat signifikansi 0.05, kita menyimpulkan bahwa terdapat perbedaan yang signifikan antara harga penjualan properti di Manhattan dan Brooklyn.\n",
    "\n",
    "Kesimpulan ini dapat membantu dalam pengambilan keputusan terkait investasi dan bisnis properti di kedua wilayah tersebut."
   ]
  },
  {
   "cell_type": "markdown",
   "id": "45d80ff9-7e42-4e4c-9387-bbe33b958a4f",
   "metadata": {},
   "source": [
    "### Preprocessing"
   ]
  },
  {
   "cell_type": "code",
   "execution_count": 111,
   "id": "6bac3c51-716c-4b6a-8843-d10c30851f32",
   "metadata": {
    "tags": []
   },
   "outputs": [],
   "source": [
    "# 1. Mengatasi Data yang Hilang\n",
    "mean_sale_price = df['SALE PRICE'].mean()\n",
    "df['SALE PRICE'].fillna(mean_sale_price, inplace=True)\n",
    "\n",
    "# 2. Pengkodean Data Kategori\n",
    "df = pd.get_dummies(df, columns=['BOROUGH'], prefix='BOROUGH')\n",
    "\n",
    "# 3. Normalisasi\n",
    "min_land_square_feet = df['LAND SQUARE FEET'].min()\n",
    "max_land_square_feet = df['LAND SQUARE FEET'].max()\n",
    "df['LAND SQUARE FEET'] = (df['LAND SQUARE FEET'] - min_land_square_feet) / (max_land_square_feet - min_land_square_feet)\n",
    "\n",
    "# 4. Penyederhanaan Data\n",
    "selected_columns = ['SALE PRICE', 'BOROUGH_1', 'BOROUGH_2', 'BOROUGH_3', 'BOROUGH_4', 'BOROUGH_5', 'LAND SQUARE FEET']\n",
    "df = df[selected_columns]\n",
    "\n",
    "# 5. Penyimpanan Data (opsional)\n",
    "# Data yang telah diproses dapat disimpan dalam format yang sesuai, seperti CSV, untuk analisis lebih lanjut.\n",
    "#df.to_csv('nyc_property_sales_preprocessed.csv', index=False)\n"
   ]
  },
  {
   "cell_type": "code",
   "execution_count": 112,
   "id": "df1bba5b-94f5-42a4-81f9-cd3699aa9667",
   "metadata": {
    "tags": []
   },
   "outputs": [
    {
     "name": "stdout",
     "output_type": "stream",
     "text": [
      "   SALE PRICE  BOROUGH_1  BOROUGH_2  BOROUGH_3  BOROUGH_4  BOROUGH_5  \\\n",
      "0     6625000          1          0          0          0          0   \n",
      "1          -1          1          0          0          0          0   \n",
      "2          -1          1          0          0          0          0   \n",
      "3     3936272          1          0          0          0          0   \n",
      "4     8000000          1          0          0          0          0   \n",
      "\n",
      "   LAND SQUARE FEET  \n",
      "0          0.000384  \n",
      "1          0.001086  \n",
      "2          0.000520  \n",
      "3          0.000535  \n",
      "4          0.000557  \n"
     ]
    }
   ],
   "source": [
    "# Menampilkan beberapa baris pertama data yang telah diolah\n",
    "print(df.head())"
   ]
  },
  {
   "cell_type": "markdown",
   "id": "260e205f-6e67-4411-8eed-e55c82d72ed5",
   "metadata": {},
   "source": [
    "Tujuan dari analisis data di atas, yang mencakup berbagai tahapan pra-pemrosesan data, adalah untuk mempersiapkan data penjualan properti di NYC sehingga dapat digunakan secara efektif dalam analisis lebih lanjut. Beberapa tujuan utama dari analisis ini adalah:\n",
    "\n",
    "1. **Membersihkan Data**: Mengatasi masalah data yang hilang, seperti mengisi nilai yang hilang dalam kolom SALE PRICE dengan rata-rata harga penjualan. Hal ini dilakukan agar tidak ada data yang hilang yang dapat mengganggu analisis.\n",
    "\n",
    "2. **Pengkodean Data Kategori**: Menggunakan teknik one-hot encoding untuk kolom BOROUGH, yang merupakan data kategori. Ini memungkinkan penggunaan data kategori dalam analisis statistik.\n",
    "\n",
    "3. **Normalisasi Data**: Melakukan normalisasi Min-Max pada kolom LAND SQUARE FEET agar data memiliki skala yang seragam. Ini membantu dalam menghindari efek skala yang berlebihan dalam analisis.\n",
    "\n",
    "4. **Penyederhanaan Data**: Memilih kolom-kolom yang relevan untuk analisis, seperti SALE PRICE, BOROUGH, dan LAND SQUARE FEET. Ini membantu dalam fokus pada variabel-variabel yang penting.\n",
    "\n",
    "5. **Penyimpanan Data (Opsional)**: Data yang telah diproses dapat disimpan dalam format yang sesuai, seperti CSV. Ini memungkinkan penggunaan data yang sudah dipersiapkan dalam analisis selanjutnya tanpa perlu melakukan pra-pemrosesan ulang.\n",
    "\n",
    "Tujuan akhir dari semua langkah pra-pemrosesan ini adalah untuk membuat data yang lebih bersih, terstruktur, dan siap digunakan dalam analisis harga properti di NYC. Data yang telah dipersiapkan dengan baik akan memberikan dasar yang kuat untuk analisis lebih lanjut, seperti perbandingan harga properti di berbagai wilayah atau peramalan harga properti di masa depan."
   ]
  },
  {
   "cell_type": "code",
   "execution_count": null,
   "id": "a0e54c91-d35e-437d-9ee0-c51412da9d7e",
   "metadata": {},
   "outputs": [],
   "source": []
  }
 ],
 "metadata": {
  "kernelspec": {
   "display_name": "Python 3 (ipykernel)",
   "language": "python",
   "name": "python3"
  },
  "language_info": {
   "codemirror_mode": {
    "name": "ipython",
    "version": 3
   },
   "file_extension": ".py",
   "mimetype": "text/x-python",
   "name": "python",
   "nbconvert_exporter": "python",
   "pygments_lexer": "ipython3",
   "version": "3.11.4"
  }
 },
 "nbformat": 4,
 "nbformat_minor": 5
}
